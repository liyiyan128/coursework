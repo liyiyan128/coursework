{
 "cells": [
  {
   "cell_type": "markdown",
   "metadata": {},
   "source": [
    "## algs4.jar\n",
    "```\n",
    "# Complie.\n",
    "javac -classpath algs4.jar Main.java\n",
    "# Execute.\n",
    "java -cp algs4.jar Main.java\n",
    "```"
   ]
  },
  {
   "cell_type": "markdown",
   "metadata": {},
   "source": [
    "## Dynamic Connectivity\n",
    "\n",
    "QuickFind (eager approach)\n",
    "- Integer array id[N]\n",
    "- p, q connected iff same id\n",
    "- Find: check id[p] == id[q]\n",
    "- Union: Merge components containing p and q, change entries with id = id[p] to id[q] (quadratic)\n",
    "\n",
    "QuickUnion (lazy approach)\n",
    "- id[i] is parent of i, root of i is id[id[...id[i]...]] (tree)\n",
    "- Find: check if p, q have the same root (expensive)\n",
    "- Union: set id[p's root] to id[q's root]\n",
    "\n",
    "WQUPC (Weighted Quick Union with Path Compression)\n",
    "\n",
    "Improvement 1: Weighted Quick-Union\n",
    "- Avoid tall trees\n",
    "- Keep track of size of each tree\n",
    "- Balance by linking root of smaller tree to root of larger tree\n",
    "\n",
    "Improvement 2: **Path Compression**\n",
    "- After computing the root of p, set id of each examined node to point to that root\n",
    "\n",
    "Application: percolation threshold"
   ]
  },
  {
   "cell_type": "markdown",
   "metadata": {},
   "source": [
    "## Analysis of Algorithms\n",
    "Doubling hypothesis: quick way to estimate $b$ in power-law relationship $a N^{b}$\n",
    "\n",
    "Order of growth:\n",
    "$$\n",
    "1\\,(constant),\\; logN\\,(logarithmic),\\; N\\,(linear),\\; NlogN\\,(linearithmic),\\; N^{2}\\,(quadratic),\\; N^{3}\\,(cubic),\\; 2^{N}\\,(exponential)\n",
    "$$\n"
   ]
  },
  {
   "cell_type": "markdown",
   "metadata": {},
   "source": []
  }
 ],
 "metadata": {
  "language_info": {
   "name": "python"
  },
  "orig_nbformat": 4
 },
 "nbformat": 4,
 "nbformat_minor": 2
}
