{
 "cells": [
  {
   "cell_type": "markdown",
   "metadata": {},
   "source": [
    "### algs4.jar\n",
    "```\n",
    "# Complie.\n",
    "javac -classpath algs4.jar Main.java\n",
    "# Execute.\n",
    "java -cp algs4.jar Main.java\n",
    "```"
   ]
  },
  {
   "cell_type": "markdown",
   "metadata": {},
   "source": [
    "# Dynamic Connectivity\n",
    "\n",
    "### QuickFind (eager approach)\n",
    "- Integer array id[N]\n",
    "- p, q connected iff same id\n",
    "- Find: check id[p] == id[q]\n",
    "- Union: Merge components containing p and q, change entries with id = id[p] to id[q] (quadratic)\n",
    "\n",
    "### QuickUnion (lazy approach)\n",
    "- id[i] is parent of i, root of i is id[id[...id[i]...]] (tree)\n",
    "- Find: check if p, q have the same root (expensive)\n",
    "- Union: set id[p's root] to id[q's root]\n",
    "\n",
    "### WQUPC (Weighted Quick Union with Path Compression)\n",
    "\n",
    "#### Improvement 1: Weighted Quick-Union\n",
    "- Avoid tall trees\n",
    "- Keep track of size of each tree\n",
    "- Balance by linking root of smaller tree to root of larger tree\n",
    "\n",
    "#### Improvement 2: **Path Compression**\n",
    "- After computing the root of p, set id of each examined node to point to that root\n",
    "\n",
    "Application: percolation threshold"
   ]
  },
  {
   "cell_type": "markdown",
   "metadata": {},
   "source": [
    "# Analysis of Algorithms\n",
    "Doubling hypothesis: quick way to estimate $b$ in power-law relationship $a N^{b}$\n",
    "\n",
    "### Order of growth:\n",
    "$$\n",
    "1\\,(constant),\\; logN\\,(logarithmic),\\; N\\,(linear),\\; NlogN\\,(linearithmic),\\; N^{2}\\,(quadratic),\\; N^{3}\\,(cubic),\\; 2^{N}\\,(exponential)\n",
    "$$\n"
   ]
  },
  {
   "cell_type": "markdown",
   "metadata": {},
   "source": [
    "# Stacks, Queues and Bags\n",
    "\n",
    "## Stack: examine the item most recently added\n",
    "### Stack implementation:\n",
    "1. linked-list\n",
    "  - Every operation takes constant time in the worst case.\n",
    "  - Uses extra time and space to deal with links\n",
    "\n",
    "2. resizing-array\n",
    "  - How to grow array?</br>\n",
    "    If array is full, create a new array of twice the size and copy items.\n",
    "  - How to shrink array?</br>\n",
    "    Halve size of array when array is one-quarter full.\n",
    "  - Every operation takes constant amortised time.\n",
    "  - Less wasted space.\n",
    "\n",
    "### Stack considerations:\n",
    "- Overflow and underflow\n",
    "- Null items\n",
    "- Loitering (holding a reference to an object when it is no longer needed)\n",
    "\n",
    "## Queue: examine the item leat recently added.\n",
    "### Queue implementation:\n",
    "1. linked-list\n",
    "   - Maintain pointers to first and last nodes in a linked list.\n",
    "\n",
    "2. resizing-array\n",
    "\n",
    "### Parameterised stack:\n",
    "`Stack<Integer> stack = new Stack<>();`\n",
    "- Java generics</br>\n",
    "  Avoid casing in client</br>\n",
    "  Disvocer type mismmatch errors at compile-time instead of run-time\n",
    "\n",
    "- Generic data types: autoboxing (automatic cast between a primitive type and its wrapper)</br>\n",
    "  Each primitive type has a wrapper object type e.g. `Integer` for `int`\n",
    "\n",
    "### Iteration:\n",
    "- `Iterable` has a method that returns an `Iterator`\n",
    "- `Iterator` has methods `hasNext()` and `next()`\n",
    "- \"foreach\" statement `for (String s : stack)`\n",
    "\n",
    "## Bag: adding items to a collection and iterating (when order doesn't matter)\n"
   ]
  },
  {
   "cell_type": "markdown",
   "metadata": {},
   "source": []
  }
 ],
 "metadata": {
  "language_info": {
   "name": "python"
  },
  "orig_nbformat": 4
 },
 "nbformat": 4,
 "nbformat_minor": 2
}
